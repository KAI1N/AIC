{
  "cells": [
    {
      "cell_type": "markdown",
      "source": [
        "#データエンジニアリング入門\n",
        "##第1回\n"
      ],
      "metadata": {
        "id": "Ct4uucXSE3q3"
      }
    },
    {
      "cell_type": "markdown",
      "source": [
        "###講師\n",
        "B2 好田\n",
        "###TA\n",
        "B3 勝又\n"
      ],
      "metadata": {
        "id": "-u8Ac2rbFQtO"
      }
    },
    {
      "cell_type": "markdown",
      "source": [
        "#2. SQLとは？\n",
        "SQLとは、「Structured Query Language」の略で、直訳すると「構造化問い合わせ言語」という意味です。リレーショナルデータベース(RDB)（表形式のテーブル）のデータを操作するための言語です。<br>\n",
        "(【SQL入門】データベース言語の基礎知識を学んでMySQL環境で実践しよう！, https://udemy.benesse.co.jp/development/system/intro-sql.html より)"
      ],
      "metadata": {
        "id": "4d8rBUDjcjDQ"
      }
    },
    {
      "cell_type": "markdown",
      "source": [
        "# 3. 実際にやってみよう！\n"
      ],
      "metadata": {
        "id": "LmEyg0wmPR8T"
      }
    },
    {
      "cell_type": "code",
      "source": [
        "#Setup\n",
        "!pip install jupysql duckdb-engine\n",
        "!wget https://raw.githubusercontent.com/mwaskom/seaborn-data/master/penguins.csv\n",
        "!wget https://www.sqlitetutorial.net/wp-content/uploads/2018/03/chinook.zip\n",
        "!unzip chinook.zip\n",
        "%load_ext sql\n",
        "%sql duckdb://"
      ],
      "metadata": {
        "colab": {
          "base_uri": "https://localhost:8080/",
          "height": 1000
        },
        "id": "YuySs6oeCl9b",
        "outputId": "b860aff4-1b23-4c28-94bc-23568d82c63c"
      },
      "execution_count": null,
      "outputs": [
        {
          "output_type": "stream",
          "name": "stdout",
          "text": [
            "Collecting jupysql\n",
            "  Downloading jupysql-0.10.2-py3-none-any.whl (87 kB)\n",
            "\u001b[2K     \u001b[90m━━━━━━━━━━━━━━━━━━━━━━━━━━━━━━━━━━━━━━━━\u001b[0m \u001b[32m87.6/87.6 kB\u001b[0m \u001b[31m2.1 MB/s\u001b[0m eta \u001b[36m0:00:00\u001b[0m\n",
            "\u001b[?25hCollecting duckdb-engine\n",
            "  Downloading duckdb_engine-0.9.2-py3-none-any.whl (43 kB)\n",
            "\u001b[2K     \u001b[90m━━━━━━━━━━━━━━━━━━━━━━━━━━━━━━━━━━━━━━━━\u001b[0m \u001b[32m43.1/43.1 kB\u001b[0m \u001b[31m3.8 MB/s\u001b[0m eta \u001b[36m0:00:00\u001b[0m\n",
            "\u001b[?25hRequirement already satisfied: prettytable in /usr/local/lib/python3.10/dist-packages (from jupysql) (3.8.0)\n",
            "Requirement already satisfied: ipython in /usr/local/lib/python3.10/dist-packages (from jupysql) (7.34.0)\n",
            "Requirement already satisfied: sqlalchemy in /usr/local/lib/python3.10/dist-packages (from jupysql) (2.0.20)\n",
            "Requirement already satisfied: sqlparse in /usr/local/lib/python3.10/dist-packages (from jupysql) (0.4.4)\n",
            "Requirement already satisfied: ipython-genutils>=0.1.0 in /usr/local/lib/python3.10/dist-packages (from jupysql) (0.2.0)\n",
            "Requirement already satisfied: jinja2 in /usr/local/lib/python3.10/dist-packages (from jupysql) (3.1.2)\n",
            "Collecting sqlglot>=11.3.7 (from jupysql)\n",
            "  Downloading sqlglot-18.8.0-py3-none-any.whl (312 kB)\n",
            "\u001b[2K     \u001b[90m━━━━━━━━━━━━━━━━━━━━━━━━━━━━━━━━━━━━━━━\u001b[0m \u001b[32m312.1/312.1 kB\u001b[0m \u001b[31m9.5 MB/s\u001b[0m eta \u001b[36m0:00:00\u001b[0m\n",
            "\u001b[?25hCollecting ploomber-core>=0.2.7 (from jupysql)\n",
            "  Downloading ploomber_core-0.2.14-py3-none-any.whl (21 kB)\n",
            "Collecting jupysql-plugin (from jupysql)\n",
            "  Downloading jupysql_plugin-0.2.5-py3-none-any.whl (376 kB)\n",
            "\u001b[2K     \u001b[90m━━━━━━━━━━━━━━━━━━━━━━━━━━━━━━━━━━━━━━\u001b[0m \u001b[32m376.5/376.5 kB\u001b[0m \u001b[31m29.8 MB/s\u001b[0m eta \u001b[36m0:00:00\u001b[0m\n",
            "\u001b[?25hRequirement already satisfied: duckdb>=0.4.0 in /usr/local/lib/python3.10/dist-packages (from duckdb-engine) (0.8.1)\n",
            "Requirement already satisfied: click in /usr/local/lib/python3.10/dist-packages (from ploomber-core>=0.2.7->jupysql) (8.1.7)\n",
            "Requirement already satisfied: pyyaml in /usr/local/lib/python3.10/dist-packages (from ploomber-core>=0.2.7->jupysql) (6.0.1)\n",
            "Collecting posthog (from ploomber-core>=0.2.7->jupysql)\n",
            "  Downloading posthog-3.0.2-py2.py3-none-any.whl (37 kB)\n",
            "Requirement already satisfied: typing-extensions>=4.2.0 in /usr/local/lib/python3.10/dist-packages (from sqlalchemy->jupysql) (4.5.0)\n",
            "Requirement already satisfied: greenlet!=0.4.17 in /usr/local/lib/python3.10/dist-packages (from sqlalchemy->jupysql) (2.0.2)\n",
            "Requirement already satisfied: setuptools>=18.5 in /usr/local/lib/python3.10/dist-packages (from ipython->jupysql) (67.7.2)\n",
            "Collecting jedi>=0.16 (from ipython->jupysql)\n",
            "  Downloading jedi-0.19.0-py2.py3-none-any.whl (1.6 MB)\n",
            "\u001b[2K     \u001b[90m━━━━━━━━━━━━━━━━━━━━━━━━━━━━━━━━━━━━━━━━\u001b[0m \u001b[32m1.6/1.6 MB\u001b[0m \u001b[31m53.1 MB/s\u001b[0m eta \u001b[36m0:00:00\u001b[0m\n",
            "\u001b[?25hRequirement already satisfied: decorator in /usr/local/lib/python3.10/dist-packages (from ipython->jupysql) (4.4.2)\n",
            "Requirement already satisfied: pickleshare in /usr/local/lib/python3.10/dist-packages (from ipython->jupysql) (0.7.5)\n",
            "Requirement already satisfied: traitlets>=4.2 in /usr/local/lib/python3.10/dist-packages (from ipython->jupysql) (5.7.1)\n",
            "Requirement already satisfied: prompt-toolkit!=3.0.0,!=3.0.1,<3.1.0,>=2.0.0 in /usr/local/lib/python3.10/dist-packages (from ipython->jupysql) (3.0.39)\n",
            "Requirement already satisfied: pygments in /usr/local/lib/python3.10/dist-packages (from ipython->jupysql) (2.16.1)\n",
            "Requirement already satisfied: backcall in /usr/local/lib/python3.10/dist-packages (from ipython->jupysql) (0.2.0)\n",
            "Requirement already satisfied: matplotlib-inline in /usr/local/lib/python3.10/dist-packages (from ipython->jupysql) (0.1.6)\n",
            "Requirement already satisfied: pexpect>4.3 in /usr/local/lib/python3.10/dist-packages (from ipython->jupysql) (4.8.0)\n",
            "Requirement already satisfied: MarkupSafe>=2.0 in /usr/local/lib/python3.10/dist-packages (from jinja2->jupysql) (2.1.3)\n",
            "Requirement already satisfied: wcwidth in /usr/local/lib/python3.10/dist-packages (from prettytable->jupysql) (0.2.6)\n",
            "Requirement already satisfied: parso<0.9.0,>=0.8.3 in /usr/local/lib/python3.10/dist-packages (from jedi>=0.16->ipython->jupysql) (0.8.3)\n",
            "Requirement already satisfied: ptyprocess>=0.5 in /usr/local/lib/python3.10/dist-packages (from pexpect>4.3->ipython->jupysql) (0.7.0)\n",
            "Requirement already satisfied: requests<3.0,>=2.7 in /usr/local/lib/python3.10/dist-packages (from posthog->ploomber-core>=0.2.7->jupysql) (2.31.0)\n",
            "Requirement already satisfied: six>=1.5 in /usr/local/lib/python3.10/dist-packages (from posthog->ploomber-core>=0.2.7->jupysql) (1.16.0)\n",
            "Collecting monotonic>=1.5 (from posthog->ploomber-core>=0.2.7->jupysql)\n",
            "  Downloading monotonic-1.6-py2.py3-none-any.whl (8.2 kB)\n",
            "Collecting backoff>=1.10.0 (from posthog->ploomber-core>=0.2.7->jupysql)\n",
            "  Downloading backoff-2.2.1-py3-none-any.whl (15 kB)\n",
            "Requirement already satisfied: python-dateutil>2.1 in /usr/local/lib/python3.10/dist-packages (from posthog->ploomber-core>=0.2.7->jupysql) (2.8.2)\n",
            "Requirement already satisfied: charset-normalizer<4,>=2 in /usr/local/lib/python3.10/dist-packages (from requests<3.0,>=2.7->posthog->ploomber-core>=0.2.7->jupysql) (3.2.0)\n",
            "Requirement already satisfied: idna<4,>=2.5 in /usr/local/lib/python3.10/dist-packages (from requests<3.0,>=2.7->posthog->ploomber-core>=0.2.7->jupysql) (3.4)\n",
            "Requirement already satisfied: urllib3<3,>=1.21.1 in /usr/local/lib/python3.10/dist-packages (from requests<3.0,>=2.7->posthog->ploomber-core>=0.2.7->jupysql) (2.0.4)\n",
            "Requirement already satisfied: certifi>=2017.4.17 in /usr/local/lib/python3.10/dist-packages (from requests<3.0,>=2.7->posthog->ploomber-core>=0.2.7->jupysql) (2023.7.22)\n",
            "Installing collected packages: monotonic, sqlglot, jedi, backoff, posthog, duckdb-engine, ploomber-core, jupysql-plugin, jupysql\n",
            "Successfully installed backoff-2.2.1 duckdb-engine-0.9.2 jedi-0.19.0 jupysql-0.10.2 jupysql-plugin-0.2.5 monotonic-1.6 ploomber-core-0.2.14 posthog-3.0.2 sqlglot-18.8.0\n",
            "--2023-09-27 07:11:01--  https://raw.githubusercontent.com/mwaskom/seaborn-data/master/penguins.csv\n",
            "Resolving raw.githubusercontent.com (raw.githubusercontent.com)... 185.199.108.133, 185.199.109.133, 185.199.110.133, ...\n",
            "Connecting to raw.githubusercontent.com (raw.githubusercontent.com)|185.199.108.133|:443... connected.\n",
            "HTTP request sent, awaiting response... 200 OK\n",
            "Length: 13478 (13K) [text/plain]\n",
            "Saving to: ‘penguins.csv’\n",
            "\n",
            "penguins.csv        100%[===================>]  13.16K  --.-KB/s    in 0.001s  \n",
            "\n",
            "2023-09-27 07:11:01 (20.8 MB/s) - ‘penguins.csv’ saved [13478/13478]\n",
            "\n",
            "--2023-09-27 07:11:01--  https://www.sqlitetutorial.net/wp-content/uploads/2018/03/chinook.zip\n",
            "Resolving www.sqlitetutorial.net (www.sqlitetutorial.net)... 104.21.30.141, 172.67.172.250, 2606:4700:3037::ac43:acfa, ...\n",
            "Connecting to www.sqlitetutorial.net (www.sqlitetutorial.net)|104.21.30.141|:443... connected.\n",
            "HTTP request sent, awaiting response... 200 OK\n",
            "Length: 305596 (298K) [application/zip]\n",
            "Saving to: ‘chinook.zip’\n",
            "\n",
            "chinook.zip         100%[===================>] 298.43K  --.-KB/s    in 0.03s   \n",
            "\n",
            "2023-09-27 07:11:01 (8.73 MB/s) - ‘chinook.zip’ saved [305596/305596]\n",
            "\n",
            "Archive:  chinook.zip\n",
            "  inflating: chinook.db              \n"
          ]
        },
        {
          "output_type": "display_data",
          "data": {
            "text/plain": [
              "Connecting to 'duckdb://'"
            ],
            "text/html": [
              "<span style=\"None\">Connecting to &#x27;duckdb://&#x27;</span>"
            ]
          },
          "metadata": {}
        }
      ]
    },
    {
      "cell_type": "markdown",
      "source": [
        "例にpenguins.csvというデータを使ってみます。\n",
        "\n",
        "| species  |   island    | bill_length_mm |bill_depth_mm|flipper_length_mm|body_mass_g|sex|\n",
        "|:---:|:---------:|:--:|:--:|:--:|:--:|:--:|\n",
        "|Adelie|Torgersen|39.1|18.7|181|3750|MALE|\n",
        "|Adelie|Torgersen|39.5|17.4|186|3800|FEMALE|\n",
        "|Adelie|Torgersen|40.3|18|195|3250|FEMALE|\n",
        "|Adelie|Torgersen||||||\n",
        "|Adelie|Torgersen|36.7|19.3|193|3450|FEMALE|\n",
        "|Adelie|Torgersen|39.3|20.6|190|3650|MALE|\n",
        "|Adelie|Torgersen|38.9|17.8|181|3625|FEMALE|\n",
        "|Adelie|Torgersen|39.2|19.6|195|4675|MALE|\n",
        "|Adelie|Torgersen|34.1|18.1|193|3475||\n",
        "|Adelie|Torgersen|42|20.2|190|4250||\n",
        "|Adelie|Torgersen|37.8|17.1|186|3300||\n",
        "|Adelie|Torgersen|37.8|17.3|180|3700||\n",
        "|Adelie|Torgersen|41.1|17.6|182|3200|FEMALE|\n",
        "|Adelie|Torgersen|38.6|21.2|191|3800|MALE|\n",
        "|Adelie|Torgersen|34.6|21.1|198|4400|MALE|\n",
        "|Adelie|Torgersen|36.6|17.8|185|3700|FEMALE|\n",
        "|Adelie|Torgersen|38.7|19|195|3450|FEMALE|\n",
        "|Adelie|Torgersen|42.5|20.7|197|4500|MALE|\n",
        "|Adelie|Torgersen|34.4|18.4|184|3325|FEMALE|\n",
        "etc..."
      ],
      "metadata": {
        "id": "l3mQWcnySoIW"
      }
    },
    {
      "cell_type": "markdown",
      "source": [
        "## 3.1 SELECT / FROM\n",
        "- <b>SELECT</b>\n",
        "  - 参照する列を指定する\n",
        "  - 列名をカンマ区切りで列挙する\n",
        "  - ```*```で全ての列名を選択することができる\n",
        "- <b>FROM</b>\n",
        "  - 参照するテーブルを指定する\n",
        "- <b>コメントアウト</b>\n",
        "  - 一行のコメントアウトは頭に```-- コメント```を付ける\n",
        "  - 複数行のコメントアウトは```/* コメント */```で囲う"
      ],
      "metadata": {
        "id": "7Y3ZovDJtfKz"
      }
    },
    {
      "cell_type": "markdown",
      "source": [
        "```\n",
        "SELECT\n",
        "  (カラム1),（カラム2）,（カラム3）\n",
        "FROM\n",
        "  (テーブル名)\n",
        "```"
      ],
      "metadata": {
        "id": "KWG-elGzQt2i"
      }
    },
    {
      "cell_type": "markdown",
      "source": [
        "###例：\n"
      ],
      "metadata": {
        "id": "susLnTCkwuNz"
      }
    },
    {
      "cell_type": "markdown",
      "source": [
        "一つのコラムを抽出したいとき"
      ],
      "metadata": {
        "id": "UTS1DgUynlrO"
      }
    },
    {
      "cell_type": "code",
      "source": [
        "%%sql\n",
        "SELECT\n",
        " species\n",
        "FROM\n",
        " penguins.csv"
      ],
      "metadata": {
        "colab": {
          "base_uri": "https://localhost:8080/",
          "height": 284
        },
        "id": "Jqm-5JXulw7O",
        "outputId": "5236a39e-9831-4e08-b397-09cb0ceb6b64"
      },
      "execution_count": null,
      "outputs": [
        {
          "output_type": "display_data",
          "data": {
            "text/plain": [
              "Running query in 'duckdb://'"
            ],
            "text/html": [
              "<span style=\"None\">Running query in &#x27;duckdb://&#x27;</span>"
            ]
          },
          "metadata": {}
        },
        {
          "output_type": "execute_result",
          "data": {
            "text/plain": [
              "+---------+\n",
              "| species |\n",
              "+---------+\n",
              "|  Adelie |\n",
              "|  Adelie |\n",
              "|  Adelie |\n",
              "|  Adelie |\n",
              "|  Adelie |\n",
              "|  Adelie |\n",
              "|  Adelie |\n",
              "|  Adelie |\n",
              "|  Adelie |\n",
              "|  Adelie |\n",
              "+---------+\n",
              "Truncated to displaylimit of 10."
            ],
            "text/html": [
              "<table>\n",
              "    <thead>\n",
              "        <tr>\n",
              "            <th>species</th>\n",
              "        </tr>\n",
              "    </thead>\n",
              "    <tbody>\n",
              "        <tr>\n",
              "            <td>Adelie</td>\n",
              "        </tr>\n",
              "        <tr>\n",
              "            <td>Adelie</td>\n",
              "        </tr>\n",
              "        <tr>\n",
              "            <td>Adelie</td>\n",
              "        </tr>\n",
              "        <tr>\n",
              "            <td>Adelie</td>\n",
              "        </tr>\n",
              "        <tr>\n",
              "            <td>Adelie</td>\n",
              "        </tr>\n",
              "        <tr>\n",
              "            <td>Adelie</td>\n",
              "        </tr>\n",
              "        <tr>\n",
              "            <td>Adelie</td>\n",
              "        </tr>\n",
              "        <tr>\n",
              "            <td>Adelie</td>\n",
              "        </tr>\n",
              "        <tr>\n",
              "            <td>Adelie</td>\n",
              "        </tr>\n",
              "        <tr>\n",
              "            <td>Adelie</td>\n",
              "        </tr>\n",
              "    </tbody>\n",
              "</table>\n",
              "<span style=\"font-style:italic;text-align:center;\">Truncated to <a href=\"https://jupysql.ploomber.io/en/latest/api/configuration.html#displaylimit\">displaylimit</a> of 10.</span>"
            ]
          },
          "metadata": {},
          "execution_count": 17
        }
      ]
    },
    {
      "cell_type": "markdown",
      "source": [
        "複数のコラムを抽出したいとき"
      ],
      "metadata": {
        "id": "ZVgRO7vBnlMh"
      }
    },
    {
      "cell_type": "code",
      "source": [
        "%%sql\n",
        "SELECT\n",
        "species,island,bill_length_mm\n",
        "FROM\n",
        "penguins.csv"
      ],
      "metadata": {
        "colab": {
          "base_uri": "https://localhost:8080/",
          "height": 284
        },
        "id": "REW8Hxtymz4X",
        "outputId": "2fdff196-b6da-4abb-8140-be542c309656"
      },
      "execution_count": null,
      "outputs": [
        {
          "output_type": "display_data",
          "data": {
            "text/plain": [
              "Running query in 'duckdb://'"
            ],
            "text/html": [
              "<span style=\"None\">Running query in &#x27;duckdb://&#x27;</span>"
            ]
          },
          "metadata": {}
        },
        {
          "output_type": "execute_result",
          "data": {
            "text/plain": [
              "+---------+-----------+----------------+\n",
              "| species |   island  | bill_length_mm |\n",
              "+---------+-----------+----------------+\n",
              "|  Adelie | Torgersen |      39.1      |\n",
              "|  Adelie | Torgersen |      39.5      |\n",
              "|  Adelie | Torgersen |      40.3      |\n",
              "|  Adelie | Torgersen |      None      |\n",
              "|  Adelie | Torgersen |      36.7      |\n",
              "|  Adelie | Torgersen |      39.3      |\n",
              "|  Adelie | Torgersen |      38.9      |\n",
              "|  Adelie | Torgersen |      39.2      |\n",
              "|  Adelie | Torgersen |      34.1      |\n",
              "|  Adelie | Torgersen |      42.0      |\n",
              "+---------+-----------+----------------+\n",
              "Truncated to displaylimit of 10."
            ],
            "text/html": [
              "<table>\n",
              "    <thead>\n",
              "        <tr>\n",
              "            <th>species</th>\n",
              "            <th>island</th>\n",
              "            <th>bill_length_mm</th>\n",
              "        </tr>\n",
              "    </thead>\n",
              "    <tbody>\n",
              "        <tr>\n",
              "            <td>Adelie</td>\n",
              "            <td>Torgersen</td>\n",
              "            <td>39.1</td>\n",
              "        </tr>\n",
              "        <tr>\n",
              "            <td>Adelie</td>\n",
              "            <td>Torgersen</td>\n",
              "            <td>39.5</td>\n",
              "        </tr>\n",
              "        <tr>\n",
              "            <td>Adelie</td>\n",
              "            <td>Torgersen</td>\n",
              "            <td>40.3</td>\n",
              "        </tr>\n",
              "        <tr>\n",
              "            <td>Adelie</td>\n",
              "            <td>Torgersen</td>\n",
              "            <td>None</td>\n",
              "        </tr>\n",
              "        <tr>\n",
              "            <td>Adelie</td>\n",
              "            <td>Torgersen</td>\n",
              "            <td>36.7</td>\n",
              "        </tr>\n",
              "        <tr>\n",
              "            <td>Adelie</td>\n",
              "            <td>Torgersen</td>\n",
              "            <td>39.3</td>\n",
              "        </tr>\n",
              "        <tr>\n",
              "            <td>Adelie</td>\n",
              "            <td>Torgersen</td>\n",
              "            <td>38.9</td>\n",
              "        </tr>\n",
              "        <tr>\n",
              "            <td>Adelie</td>\n",
              "            <td>Torgersen</td>\n",
              "            <td>39.2</td>\n",
              "        </tr>\n",
              "        <tr>\n",
              "            <td>Adelie</td>\n",
              "            <td>Torgersen</td>\n",
              "            <td>34.1</td>\n",
              "        </tr>\n",
              "        <tr>\n",
              "            <td>Adelie</td>\n",
              "            <td>Torgersen</td>\n",
              "            <td>42.0</td>\n",
              "        </tr>\n",
              "    </tbody>\n",
              "</table>\n",
              "<span style=\"font-style:italic;text-align:center;\">Truncated to <a href=\"https://jupysql.ploomber.io/en/latest/api/configuration.html#displaylimit\">displaylimit</a> of 10.</span>"
            ]
          },
          "metadata": {},
          "execution_count": 19
        }
      ]
    },
    {
      "cell_type": "markdown",
      "source": [
        "全てのコラムを抽出したいとき"
      ],
      "metadata": {
        "id": "DMnQVvK8nuGz"
      }
    },
    {
      "cell_type": "code",
      "source": [
        "%%sql\n",
        "SELECT\n",
        " *\n",
        "FROM\n",
        " penguins.csv"
      ],
      "metadata": {
        "colab": {
          "base_uri": "https://localhost:8080/",
          "height": 284
        },
        "id": "o-1T4i-kDTen",
        "outputId": "5d949549-1987-4ef2-908e-d59f5d73339f"
      },
      "execution_count": null,
      "outputs": [
        {
          "output_type": "display_data",
          "data": {
            "text/plain": [
              "Running query in 'duckdb://'"
            ],
            "text/html": [
              "<span style=\"None\">Running query in &#x27;duckdb://&#x27;</span>"
            ]
          },
          "metadata": {}
        },
        {
          "output_type": "execute_result",
          "data": {
            "text/plain": [
              "+---------+-----------+----------------+---------------+-------------------+-------------+--------+\n",
              "| species |   island  | bill_length_mm | bill_depth_mm | flipper_length_mm | body_mass_g |  sex   |\n",
              "+---------+-----------+----------------+---------------+-------------------+-------------+--------+\n",
              "|  Adelie | Torgersen |      39.1      |      18.7     |        181        |     3750    |  MALE  |\n",
              "|  Adelie | Torgersen |      39.5      |      17.4     |        186        |     3800    | FEMALE |\n",
              "|  Adelie | Torgersen |      40.3      |      18.0     |        195        |     3250    | FEMALE |\n",
              "|  Adelie | Torgersen |      None      |      None     |        None       |     None    |  None  |\n",
              "|  Adelie | Torgersen |      36.7      |      19.3     |        193        |     3450    | FEMALE |\n",
              "|  Adelie | Torgersen |      39.3      |      20.6     |        190        |     3650    |  MALE  |\n",
              "|  Adelie | Torgersen |      38.9      |      17.8     |        181        |     3625    | FEMALE |\n",
              "|  Adelie | Torgersen |      39.2      |      19.6     |        195        |     4675    |  MALE  |\n",
              "|  Adelie | Torgersen |      34.1      |      18.1     |        193        |     3475    |  None  |\n",
              "|  Adelie | Torgersen |      42.0      |      20.2     |        190        |     4250    |  None  |\n",
              "+---------+-----------+----------------+---------------+-------------------+-------------+--------+\n",
              "Truncated to displaylimit of 10."
            ],
            "text/html": [
              "<table>\n",
              "    <thead>\n",
              "        <tr>\n",
              "            <th>species</th>\n",
              "            <th>island</th>\n",
              "            <th>bill_length_mm</th>\n",
              "            <th>bill_depth_mm</th>\n",
              "            <th>flipper_length_mm</th>\n",
              "            <th>body_mass_g</th>\n",
              "            <th>sex</th>\n",
              "        </tr>\n",
              "    </thead>\n",
              "    <tbody>\n",
              "        <tr>\n",
              "            <td>Adelie</td>\n",
              "            <td>Torgersen</td>\n",
              "            <td>39.1</td>\n",
              "            <td>18.7</td>\n",
              "            <td>181</td>\n",
              "            <td>3750</td>\n",
              "            <td>MALE</td>\n",
              "        </tr>\n",
              "        <tr>\n",
              "            <td>Adelie</td>\n",
              "            <td>Torgersen</td>\n",
              "            <td>39.5</td>\n",
              "            <td>17.4</td>\n",
              "            <td>186</td>\n",
              "            <td>3800</td>\n",
              "            <td>FEMALE</td>\n",
              "        </tr>\n",
              "        <tr>\n",
              "            <td>Adelie</td>\n",
              "            <td>Torgersen</td>\n",
              "            <td>40.3</td>\n",
              "            <td>18.0</td>\n",
              "            <td>195</td>\n",
              "            <td>3250</td>\n",
              "            <td>FEMALE</td>\n",
              "        </tr>\n",
              "        <tr>\n",
              "            <td>Adelie</td>\n",
              "            <td>Torgersen</td>\n",
              "            <td>None</td>\n",
              "            <td>None</td>\n",
              "            <td>None</td>\n",
              "            <td>None</td>\n",
              "            <td>None</td>\n",
              "        </tr>\n",
              "        <tr>\n",
              "            <td>Adelie</td>\n",
              "            <td>Torgersen</td>\n",
              "            <td>36.7</td>\n",
              "            <td>19.3</td>\n",
              "            <td>193</td>\n",
              "            <td>3450</td>\n",
              "            <td>FEMALE</td>\n",
              "        </tr>\n",
              "        <tr>\n",
              "            <td>Adelie</td>\n",
              "            <td>Torgersen</td>\n",
              "            <td>39.3</td>\n",
              "            <td>20.6</td>\n",
              "            <td>190</td>\n",
              "            <td>3650</td>\n",
              "            <td>MALE</td>\n",
              "        </tr>\n",
              "        <tr>\n",
              "            <td>Adelie</td>\n",
              "            <td>Torgersen</td>\n",
              "            <td>38.9</td>\n",
              "            <td>17.8</td>\n",
              "            <td>181</td>\n",
              "            <td>3625</td>\n",
              "            <td>FEMALE</td>\n",
              "        </tr>\n",
              "        <tr>\n",
              "            <td>Adelie</td>\n",
              "            <td>Torgersen</td>\n",
              "            <td>39.2</td>\n",
              "            <td>19.6</td>\n",
              "            <td>195</td>\n",
              "            <td>4675</td>\n",
              "            <td>MALE</td>\n",
              "        </tr>\n",
              "        <tr>\n",
              "            <td>Adelie</td>\n",
              "            <td>Torgersen</td>\n",
              "            <td>34.1</td>\n",
              "            <td>18.1</td>\n",
              "            <td>193</td>\n",
              "            <td>3475</td>\n",
              "            <td>None</td>\n",
              "        </tr>\n",
              "        <tr>\n",
              "            <td>Adelie</td>\n",
              "            <td>Torgersen</td>\n",
              "            <td>42.0</td>\n",
              "            <td>20.2</td>\n",
              "            <td>190</td>\n",
              "            <td>4250</td>\n",
              "            <td>None</td>\n",
              "        </tr>\n",
              "    </tbody>\n",
              "</table>\n",
              "<span style=\"font-style:italic;text-align:center;\">Truncated to <a href=\"https://jupysql.ploomber.io/en/latest/api/configuration.html#displaylimit\">displaylimit</a> of 10.</span>"
            ]
          },
          "metadata": {},
          "execution_count": 20
        }
      ]
    },
    {
      "cell_type": "markdown",
      "source": [
        "##3.2 演習問題\n",
        "問１ penguins.csvからspecies, island, flipper_length_mm, sexのカラムを抽出してください"
      ],
      "metadata": {
        "id": "E2LbgImE_NkN"
      }
    },
    {
      "cell_type": "code",
      "source": [
        "%%sql\n"
      ],
      "metadata": {
        "colab": {
          "base_uri": "https://localhost:8080/",
          "height": 284
        },
        "id": "qDZtbVxJGfVo",
        "outputId": "e79c223b-d6ef-4e37-f544-bddf7bc37f7f"
      },
      "execution_count": null,
      "outputs": [
        {
          "output_type": "display_data",
          "data": {
            "text/plain": [
              "Running query in 'duckdb://'"
            ],
            "text/html": [
              "<span style=\"None\">Running query in &#x27;duckdb://&#x27;</span>"
            ]
          },
          "metadata": {}
        },
        {
          "output_type": "execute_result",
          "data": {
            "text/plain": [
              "+---------+-----------+-------------------+--------+\n",
              "| species |   island  | flipper_length_mm |  sex   |\n",
              "+---------+-----------+-------------------+--------+\n",
              "|  Adelie | Torgersen |        181        |  MALE  |\n",
              "|  Adelie | Torgersen |        186        | FEMALE |\n",
              "|  Adelie | Torgersen |        195        | FEMALE |\n",
              "|  Adelie | Torgersen |        None       |  None  |\n",
              "|  Adelie | Torgersen |        193        | FEMALE |\n",
              "|  Adelie | Torgersen |        190        |  MALE  |\n",
              "|  Adelie | Torgersen |        181        | FEMALE |\n",
              "|  Adelie | Torgersen |        195        |  MALE  |\n",
              "|  Adelie | Torgersen |        193        |  None  |\n",
              "|  Adelie | Torgersen |        190        |  None  |\n",
              "+---------+-----------+-------------------+--------+\n",
              "Truncated to displaylimit of 10."
            ],
            "text/html": [
              "<table>\n",
              "    <thead>\n",
              "        <tr>\n",
              "            <th>species</th>\n",
              "            <th>island</th>\n",
              "            <th>flipper_length_mm</th>\n",
              "            <th>sex</th>\n",
              "        </tr>\n",
              "    </thead>\n",
              "    <tbody>\n",
              "        <tr>\n",
              "            <td>Adelie</td>\n",
              "            <td>Torgersen</td>\n",
              "            <td>181</td>\n",
              "            <td>MALE</td>\n",
              "        </tr>\n",
              "        <tr>\n",
              "            <td>Adelie</td>\n",
              "            <td>Torgersen</td>\n",
              "            <td>186</td>\n",
              "            <td>FEMALE</td>\n",
              "        </tr>\n",
              "        <tr>\n",
              "            <td>Adelie</td>\n",
              "            <td>Torgersen</td>\n",
              "            <td>195</td>\n",
              "            <td>FEMALE</td>\n",
              "        </tr>\n",
              "        <tr>\n",
              "            <td>Adelie</td>\n",
              "            <td>Torgersen</td>\n",
              "            <td>None</td>\n",
              "            <td>None</td>\n",
              "        </tr>\n",
              "        <tr>\n",
              "            <td>Adelie</td>\n",
              "            <td>Torgersen</td>\n",
              "            <td>193</td>\n",
              "            <td>FEMALE</td>\n",
              "        </tr>\n",
              "        <tr>\n",
              "            <td>Adelie</td>\n",
              "            <td>Torgersen</td>\n",
              "            <td>190</td>\n",
              "            <td>MALE</td>\n",
              "        </tr>\n",
              "        <tr>\n",
              "            <td>Adelie</td>\n",
              "            <td>Torgersen</td>\n",
              "            <td>181</td>\n",
              "            <td>FEMALE</td>\n",
              "        </tr>\n",
              "        <tr>\n",
              "            <td>Adelie</td>\n",
              "            <td>Torgersen</td>\n",
              "            <td>195</td>\n",
              "            <td>MALE</td>\n",
              "        </tr>\n",
              "        <tr>\n",
              "            <td>Adelie</td>\n",
              "            <td>Torgersen</td>\n",
              "            <td>193</td>\n",
              "            <td>None</td>\n",
              "        </tr>\n",
              "        <tr>\n",
              "            <td>Adelie</td>\n",
              "            <td>Torgersen</td>\n",
              "            <td>190</td>\n",
              "            <td>None</td>\n",
              "        </tr>\n",
              "    </tbody>\n",
              "</table>\n",
              "<span style=\"font-style:italic;text-align:center;\">Truncated to <a href=\"https://jupysql.ploomber.io/en/latest/api/configuration.html#displaylimit\">displaylimit</a> of 10.</span>"
            ]
          },
          "metadata": {},
          "execution_count": 16
        }
      ]
    },
    {
      "cell_type": "markdown",
      "source": [
        "問2 username.csvからすべてのカラムを表示してください"
      ],
      "metadata": {
        "id": "6IKxHb_mGqFo"
      }
    },
    {
      "cell_type": "code",
      "source": [
        "%%sql"
      ],
      "metadata": {
        "colab": {
          "base_uri": "https://localhost:8080/",
          "height": 162
        },
        "id": "TuJ_rj6bfDK-",
        "outputId": "39c83d82-0ed7-404c-873a-c0d30c67c4c8"
      },
      "execution_count": null,
      "outputs": [
        {
          "output_type": "display_data",
          "data": {
            "text/plain": [
              "Running query in 'duckdb://'"
            ],
            "text/html": [
              "<span style=\"None\">Running query in &#x27;duckdb://&#x27;</span>"
            ]
          },
          "metadata": {}
        },
        {
          "output_type": "execute_result",
          "data": {
            "text/plain": [
              "+-----------+------------+------------+-----------+\n",
              "|  Username | Identifier | First name | Last name |\n",
              "+-----------+------------+------------+-----------+\n",
              "|  booker12 |    9012    |   Rachel   |   Booker  |\n",
              "|   grey07  |    2070    |   Laura    |    Grey   |\n",
              "| johnson81 |    4081    |   Craig    |  Johnson  |\n",
              "| jenkins46 |    9346    |    Mary    |  Jenkins  |\n",
              "|  smith79  |    5079    |   Jamie    |   Smith   |\n",
              "+-----------+------------+------------+-----------+"
            ],
            "text/html": [
              "<table>\n",
              "    <thead>\n",
              "        <tr>\n",
              "            <th>Username</th>\n",
              "            <th>Identifier</th>\n",
              "            <th>First name</th>\n",
              "            <th>Last name</th>\n",
              "        </tr>\n",
              "    </thead>\n",
              "    <tbody>\n",
              "        <tr>\n",
              "            <td>booker12</td>\n",
              "            <td>9012</td>\n",
              "            <td>Rachel</td>\n",
              "            <td>Booker</td>\n",
              "        </tr>\n",
              "        <tr>\n",
              "            <td>grey07</td>\n",
              "            <td>2070</td>\n",
              "            <td>Laura</td>\n",
              "            <td>Grey</td>\n",
              "        </tr>\n",
              "        <tr>\n",
              "            <td>johnson81</td>\n",
              "            <td>4081</td>\n",
              "            <td>Craig</td>\n",
              "            <td>Johnson</td>\n",
              "        </tr>\n",
              "        <tr>\n",
              "            <td>jenkins46</td>\n",
              "            <td>9346</td>\n",
              "            <td>Mary</td>\n",
              "            <td>Jenkins</td>\n",
              "        </tr>\n",
              "        <tr>\n",
              "            <td>smith79</td>\n",
              "            <td>5079</td>\n",
              "            <td>Jamie</td>\n",
              "            <td>Smith</td>\n",
              "        </tr>\n",
              "    </tbody>\n",
              "</table>"
            ]
          },
          "metadata": {},
          "execution_count": 6
        }
      ]
    },
    {
      "cell_type": "markdown",
      "source": [
        "問3 username_password_recovery_code.csvからUsername, Identifier, One_time_password, Recovery_codeを表示してください\n",
        "\n",
        "\n"
      ],
      "metadata": {
        "id": "6irSNZ_ljMYZ"
      }
    },
    {
      "cell_type": "code",
      "source": [
        "%%sql"
      ],
      "metadata": {
        "colab": {
          "base_uri": "https://localhost:8080/",
          "height": 162
        },
        "id": "fJgMHKUkjW1p",
        "outputId": "c5d24a6d-be20-4d9e-d5a6-44613ca60b69"
      },
      "execution_count": null,
      "outputs": [
        {
          "output_type": "display_data",
          "data": {
            "text/plain": [
              "Running query in 'duckdb://'"
            ],
            "text/html": [
              "<span style=\"None\">Running query in &#x27;duckdb://&#x27;</span>"
            ]
          },
          "metadata": {}
        },
        {
          "output_type": "execute_result",
          "data": {
            "text/plain": [
              "+-----------+------------+-------------------+---------------+\n",
              "|  Username | Identifier | One_time_password | Recovery_code |\n",
              "+-----------+------------+-------------------+---------------+\n",
              "|  booker12 |    9012    |       12se74      |     rb9012    |\n",
              "|   grey07  |    2070    |       04ap67      |     lg2070    |\n",
              "| johnson81 |    4081    |       30no86      |     cj4081    |\n",
              "| jenkins46 |    9346    |       14ju73      |     mj9346    |\n",
              "|  smith79  |    5079    |       09ja61      |     js5079    |\n",
              "+-----------+------------+-------------------+---------------+"
            ],
            "text/html": [
              "<table>\n",
              "    <thead>\n",
              "        <tr>\n",
              "            <th>Username</th>\n",
              "            <th>Identifier</th>\n",
              "            <th>One_time_password</th>\n",
              "            <th>Recovery_code</th>\n",
              "        </tr>\n",
              "    </thead>\n",
              "    <tbody>\n",
              "        <tr>\n",
              "            <td>booker12</td>\n",
              "            <td>9012</td>\n",
              "            <td>12se74</td>\n",
              "            <td>rb9012</td>\n",
              "        </tr>\n",
              "        <tr>\n",
              "            <td>grey07</td>\n",
              "            <td>2070</td>\n",
              "            <td>04ap67</td>\n",
              "            <td>lg2070</td>\n",
              "        </tr>\n",
              "        <tr>\n",
              "            <td>johnson81</td>\n",
              "            <td>4081</td>\n",
              "            <td>30no86</td>\n",
              "            <td>cj4081</td>\n",
              "        </tr>\n",
              "        <tr>\n",
              "            <td>jenkins46</td>\n",
              "            <td>9346</td>\n",
              "            <td>14ju73</td>\n",
              "            <td>mj9346</td>\n",
              "        </tr>\n",
              "        <tr>\n",
              "            <td>smith79</td>\n",
              "            <td>5079</td>\n",
              "            <td>09ja61</td>\n",
              "            <td>js5079</td>\n",
              "        </tr>\n",
              "    </tbody>\n",
              "</table>"
            ]
          },
          "metadata": {},
          "execution_count": 18
        }
      ]
    },
    {
      "cell_type": "markdown",
      "source": [
        "問4 username-password-recovery-code.csvからLogin email, First name, Last nameを表示してください"
      ],
      "metadata": {
        "id": "qr9YRcp8jWS5"
      }
    },
    {
      "cell_type": "code",
      "source": [
        "%%sql"
      ],
      "metadata": {
        "colab": {
          "base_uri": "https://localhost:8080/",
          "height": 162
        },
        "id": "-Shhy7qLtKJA",
        "outputId": "2ee77b06-b02e-4deb-a87a-d4857b5d001b"
      },
      "execution_count": null,
      "outputs": [
        {
          "output_type": "display_data",
          "data": {
            "text/plain": [
              "Running query in 'duckdb://'"
            ],
            "text/html": [
              "<span style=\"None\">Running query in &#x27;duckdb://&#x27;</span>"
            ]
          },
          "metadata": {}
        },
        {
          "output_type": "execute_result",
          "data": {
            "text/plain": [
              "+--------------------+------------+-----------+\n",
              "|    Login_email     | First_name | Last_name |\n",
              "+--------------------+------------+-----------+\n",
              "| rachel@example.com |   Rachel   |   Booker  |\n",
              "| laura@example.com  |   Laura    |    Grey   |\n",
              "| craig@example.com  |   Craig    |  Johnson  |\n",
              "|  mary@example.com  |    Mary    |  Jenkins  |\n",
              "| jamie@example.com  |   Jamie    |   Smith   |\n",
              "+--------------------+------------+-----------+"
            ],
            "text/html": [
              "<table>\n",
              "    <thead>\n",
              "        <tr>\n",
              "            <th>Login_email</th>\n",
              "            <th>First_name</th>\n",
              "            <th>Last_name</th>\n",
              "        </tr>\n",
              "    </thead>\n",
              "    <tbody>\n",
              "        <tr>\n",
              "            <td>rachel@example.com</td>\n",
              "            <td>Rachel</td>\n",
              "            <td>Booker</td>\n",
              "        </tr>\n",
              "        <tr>\n",
              "            <td>laura@example.com</td>\n",
              "            <td>Laura</td>\n",
              "            <td>Grey</td>\n",
              "        </tr>\n",
              "        <tr>\n",
              "            <td>craig@example.com</td>\n",
              "            <td>Craig</td>\n",
              "            <td>Johnson</td>\n",
              "        </tr>\n",
              "        <tr>\n",
              "            <td>mary@example.com</td>\n",
              "            <td>Mary</td>\n",
              "            <td>Jenkins</td>\n",
              "        </tr>\n",
              "        <tr>\n",
              "            <td>jamie@example.com</td>\n",
              "            <td>Jamie</td>\n",
              "            <td>Smith</td>\n",
              "        </tr>\n",
              "    </tbody>\n",
              "</table>"
            ]
          },
          "metadata": {},
          "execution_count": 21
        }
      ]
    },
    {
      "cell_type": "markdown",
      "source": [
        "## 3.3 WHERE\n",
        "- <b>WHERE</b>\n",
        "  - あるカラムに対して、条件を指定することができる\n",
        "  - 複数の条件を```AND```や```OR```で繋げることができる\n",
        "\n",
        "<b>WHEREで使える演算子</b>\n",
        "\n",
        "|記号|意味|例|\n",
        "|---|---|---|\n",
        "|=、!=|等しい、等しくない|```WHERE speices = \"Adelie\"```|\n",
        "|<、>、<=、>=|大小比較|```WHERE bill_length_mm >= 3```|\n",
        "|AND、OR|複数の条件を結合|```WHERE Sex = \"MALE\" AND species = \"Adelie\"```|\n",
        "|IS NULL、IS NOT NULL|値がNULLかどうかの判定|```WHERE bill_length_mm IS NOT NULL```|\n",
        "\n",
        "※その他、BETWEEN、IN、LIKEなどもあります"
      ],
      "metadata": {
        "id": "BmAW91ClSRA7"
      }
    },
    {
      "cell_type": "markdown",
      "source": [
        "```\n",
        "SELECT\n",
        "  (カラム名)\n",
        "FROM\n",
        "  (テーブル名)\n",
        "WHERE\n",
        "  (条件式)\n",
        "  ```\n",
        "  "
      ],
      "metadata": {
        "id": "JuPupXtqSU0N"
      }
    },
    {
      "cell_type": "markdown",
      "source": [
        "###例：\n"
      ],
      "metadata": {
        "id": "87QqI7LPQE15"
      }
    },
    {
      "cell_type": "code",
      "source": [
        "%%sql\n",
        "SELECT\n",
        " *\n",
        "FROM\n",
        " penguins.csv\n",
        "WHERE\n",
        " species='Gentoo'"
      ],
      "metadata": {
        "id": "NzMHF_zUE6H7",
        "colab": {
          "base_uri": "https://localhost:8080/",
          "height": 284
        },
        "outputId": "cd933dc1-ca51-44ef-b3bc-3730482d65d9"
      },
      "execution_count": null,
      "outputs": [
        {
          "output_type": "display_data",
          "data": {
            "text/plain": [
              "Running query in 'duckdb://'"
            ],
            "text/html": [
              "<span style=\"None\">Running query in &#x27;duckdb://&#x27;</span>"
            ]
          },
          "metadata": {}
        },
        {
          "output_type": "execute_result",
          "data": {
            "text/plain": [
              "+---------+--------+----------------+---------------+-------------------+-------------+--------+\n",
              "| species | island | bill_length_mm | bill_depth_mm | flipper_length_mm | body_mass_g |  sex   |\n",
              "+---------+--------+----------------+---------------+-------------------+-------------+--------+\n",
              "|  Gentoo | Biscoe |      46.1      |      13.2     |        211        |     4500    | FEMALE |\n",
              "|  Gentoo | Biscoe |      50.0      |      16.3     |        230        |     5700    |  MALE  |\n",
              "|  Gentoo | Biscoe |      48.7      |      14.1     |        210        |     4450    | FEMALE |\n",
              "|  Gentoo | Biscoe |      50.0      |      15.2     |        218        |     5700    |  MALE  |\n",
              "|  Gentoo | Biscoe |      47.6      |      14.5     |        215        |     5400    |  MALE  |\n",
              "|  Gentoo | Biscoe |      46.5      |      13.5     |        210        |     4550    | FEMALE |\n",
              "|  Gentoo | Biscoe |      45.4      |      14.6     |        211        |     4800    | FEMALE |\n",
              "|  Gentoo | Biscoe |      46.7      |      15.3     |        219        |     5200    |  MALE  |\n",
              "|  Gentoo | Biscoe |      43.3      |      13.4     |        209        |     4400    | FEMALE |\n",
              "|  Gentoo | Biscoe |      46.8      |      15.4     |        215        |     5150    |  MALE  |\n",
              "+---------+--------+----------------+---------------+-------------------+-------------+--------+\n",
              "Truncated to displaylimit of 10."
            ],
            "text/html": [
              "<table>\n",
              "    <thead>\n",
              "        <tr>\n",
              "            <th>species</th>\n",
              "            <th>island</th>\n",
              "            <th>bill_length_mm</th>\n",
              "            <th>bill_depth_mm</th>\n",
              "            <th>flipper_length_mm</th>\n",
              "            <th>body_mass_g</th>\n",
              "            <th>sex</th>\n",
              "        </tr>\n",
              "    </thead>\n",
              "    <tbody>\n",
              "        <tr>\n",
              "            <td>Gentoo</td>\n",
              "            <td>Biscoe</td>\n",
              "            <td>46.1</td>\n",
              "            <td>13.2</td>\n",
              "            <td>211</td>\n",
              "            <td>4500</td>\n",
              "            <td>FEMALE</td>\n",
              "        </tr>\n",
              "        <tr>\n",
              "            <td>Gentoo</td>\n",
              "            <td>Biscoe</td>\n",
              "            <td>50.0</td>\n",
              "            <td>16.3</td>\n",
              "            <td>230</td>\n",
              "            <td>5700</td>\n",
              "            <td>MALE</td>\n",
              "        </tr>\n",
              "        <tr>\n",
              "            <td>Gentoo</td>\n",
              "            <td>Biscoe</td>\n",
              "            <td>48.7</td>\n",
              "            <td>14.1</td>\n",
              "            <td>210</td>\n",
              "            <td>4450</td>\n",
              "            <td>FEMALE</td>\n",
              "        </tr>\n",
              "        <tr>\n",
              "            <td>Gentoo</td>\n",
              "            <td>Biscoe</td>\n",
              "            <td>50.0</td>\n",
              "            <td>15.2</td>\n",
              "            <td>218</td>\n",
              "            <td>5700</td>\n",
              "            <td>MALE</td>\n",
              "        </tr>\n",
              "        <tr>\n",
              "            <td>Gentoo</td>\n",
              "            <td>Biscoe</td>\n",
              "            <td>47.6</td>\n",
              "            <td>14.5</td>\n",
              "            <td>215</td>\n",
              "            <td>5400</td>\n",
              "            <td>MALE</td>\n",
              "        </tr>\n",
              "        <tr>\n",
              "            <td>Gentoo</td>\n",
              "            <td>Biscoe</td>\n",
              "            <td>46.5</td>\n",
              "            <td>13.5</td>\n",
              "            <td>210</td>\n",
              "            <td>4550</td>\n",
              "            <td>FEMALE</td>\n",
              "        </tr>\n",
              "        <tr>\n",
              "            <td>Gentoo</td>\n",
              "            <td>Biscoe</td>\n",
              "            <td>45.4</td>\n",
              "            <td>14.6</td>\n",
              "            <td>211</td>\n",
              "            <td>4800</td>\n",
              "            <td>FEMALE</td>\n",
              "        </tr>\n",
              "        <tr>\n",
              "            <td>Gentoo</td>\n",
              "            <td>Biscoe</td>\n",
              "            <td>46.7</td>\n",
              "            <td>15.3</td>\n",
              "            <td>219</td>\n",
              "            <td>5200</td>\n",
              "            <td>MALE</td>\n",
              "        </tr>\n",
              "        <tr>\n",
              "            <td>Gentoo</td>\n",
              "            <td>Biscoe</td>\n",
              "            <td>43.3</td>\n",
              "            <td>13.4</td>\n",
              "            <td>209</td>\n",
              "            <td>4400</td>\n",
              "            <td>FEMALE</td>\n",
              "        </tr>\n",
              "        <tr>\n",
              "            <td>Gentoo</td>\n",
              "            <td>Biscoe</td>\n",
              "            <td>46.8</td>\n",
              "            <td>15.4</td>\n",
              "            <td>215</td>\n",
              "            <td>5150</td>\n",
              "            <td>MALE</td>\n",
              "        </tr>\n",
              "    </tbody>\n",
              "</table>\n",
              "<span style=\"font-style:italic;text-align:center;\">Truncated to <a href=\"https://jupysql.ploomber.io/en/latest/api/configuration.html#displaylimit\">displaylimit</a> of 10.</span>"
            ]
          },
          "metadata": {},
          "execution_count": 24
        }
      ]
    },
    {
      "cell_type": "code",
      "source": [
        "%%sql\n",
        "SELECT\n",
        " *\n",
        "FROM\n",
        " penguins.csv\n",
        "WHERE\n",
        " species='Adelie' AND island='Dream'\n"
      ],
      "metadata": {
        "colab": {
          "base_uri": "https://localhost:8080/",
          "height": 284
        },
        "id": "tEw5O9WByZ48",
        "outputId": "3614657a-7c08-4c31-c92d-d8c3e1c5f884"
      },
      "execution_count": null,
      "outputs": [
        {
          "output_type": "display_data",
          "data": {
            "text/plain": [
              "Running query in 'duckdb://'"
            ],
            "text/html": [
              "<span style=\"None\">Running query in &#x27;duckdb://&#x27;</span>"
            ]
          },
          "metadata": {}
        },
        {
          "output_type": "execute_result",
          "data": {
            "text/plain": [
              "+---------+--------+----------------+---------------+-------------------+-------------+--------+\n",
              "| species | island | bill_length_mm | bill_depth_mm | flipper_length_mm | body_mass_g |  sex   |\n",
              "+---------+--------+----------------+---------------+-------------------+-------------+--------+\n",
              "|  Adelie | Dream  |      39.5      |      16.7     |        178        |     3250    | FEMALE |\n",
              "|  Adelie | Dream  |      37.2      |      18.1     |        178        |     3900    |  MALE  |\n",
              "|  Adelie | Dream  |      39.5      |      17.8     |        188        |     3300    | FEMALE |\n",
              "|  Adelie | Dream  |      40.9      |      18.9     |        184        |     3900    |  MALE  |\n",
              "|  Adelie | Dream  |      36.4      |      17.0     |        195        |     3325    | FEMALE |\n",
              "|  Adelie | Dream  |      39.2      |      21.1     |        196        |     4150    |  MALE  |\n",
              "|  Adelie | Dream  |      38.8      |      20.0     |        190        |     3950    |  MALE  |\n",
              "|  Adelie | Dream  |      42.2      |      18.5     |        180        |     3550    | FEMALE |\n",
              "|  Adelie | Dream  |      37.6      |      19.3     |        181        |     3300    | FEMALE |\n",
              "|  Adelie | Dream  |      39.8      |      19.1     |        184        |     4650    |  MALE  |\n",
              "+---------+--------+----------------+---------------+-------------------+-------------+--------+\n",
              "Truncated to displaylimit of 10."
            ],
            "text/html": [
              "<table>\n",
              "    <thead>\n",
              "        <tr>\n",
              "            <th>species</th>\n",
              "            <th>island</th>\n",
              "            <th>bill_length_mm</th>\n",
              "            <th>bill_depth_mm</th>\n",
              "            <th>flipper_length_mm</th>\n",
              "            <th>body_mass_g</th>\n",
              "            <th>sex</th>\n",
              "        </tr>\n",
              "    </thead>\n",
              "    <tbody>\n",
              "        <tr>\n",
              "            <td>Adelie</td>\n",
              "            <td>Dream</td>\n",
              "            <td>39.5</td>\n",
              "            <td>16.7</td>\n",
              "            <td>178</td>\n",
              "            <td>3250</td>\n",
              "            <td>FEMALE</td>\n",
              "        </tr>\n",
              "        <tr>\n",
              "            <td>Adelie</td>\n",
              "            <td>Dream</td>\n",
              "            <td>37.2</td>\n",
              "            <td>18.1</td>\n",
              "            <td>178</td>\n",
              "            <td>3900</td>\n",
              "            <td>MALE</td>\n",
              "        </tr>\n",
              "        <tr>\n",
              "            <td>Adelie</td>\n",
              "            <td>Dream</td>\n",
              "            <td>39.5</td>\n",
              "            <td>17.8</td>\n",
              "            <td>188</td>\n",
              "            <td>3300</td>\n",
              "            <td>FEMALE</td>\n",
              "        </tr>\n",
              "        <tr>\n",
              "            <td>Adelie</td>\n",
              "            <td>Dream</td>\n",
              "            <td>40.9</td>\n",
              "            <td>18.9</td>\n",
              "            <td>184</td>\n",
              "            <td>3900</td>\n",
              "            <td>MALE</td>\n",
              "        </tr>\n",
              "        <tr>\n",
              "            <td>Adelie</td>\n",
              "            <td>Dream</td>\n",
              "            <td>36.4</td>\n",
              "            <td>17.0</td>\n",
              "            <td>195</td>\n",
              "            <td>3325</td>\n",
              "            <td>FEMALE</td>\n",
              "        </tr>\n",
              "        <tr>\n",
              "            <td>Adelie</td>\n",
              "            <td>Dream</td>\n",
              "            <td>39.2</td>\n",
              "            <td>21.1</td>\n",
              "            <td>196</td>\n",
              "            <td>4150</td>\n",
              "            <td>MALE</td>\n",
              "        </tr>\n",
              "        <tr>\n",
              "            <td>Adelie</td>\n",
              "            <td>Dream</td>\n",
              "            <td>38.8</td>\n",
              "            <td>20.0</td>\n",
              "            <td>190</td>\n",
              "            <td>3950</td>\n",
              "            <td>MALE</td>\n",
              "        </tr>\n",
              "        <tr>\n",
              "            <td>Adelie</td>\n",
              "            <td>Dream</td>\n",
              "            <td>42.2</td>\n",
              "            <td>18.5</td>\n",
              "            <td>180</td>\n",
              "            <td>3550</td>\n",
              "            <td>FEMALE</td>\n",
              "        </tr>\n",
              "        <tr>\n",
              "            <td>Adelie</td>\n",
              "            <td>Dream</td>\n",
              "            <td>37.6</td>\n",
              "            <td>19.3</td>\n",
              "            <td>181</td>\n",
              "            <td>3300</td>\n",
              "            <td>FEMALE</td>\n",
              "        </tr>\n",
              "        <tr>\n",
              "            <td>Adelie</td>\n",
              "            <td>Dream</td>\n",
              "            <td>39.8</td>\n",
              "            <td>19.1</td>\n",
              "            <td>184</td>\n",
              "            <td>4650</td>\n",
              "            <td>MALE</td>\n",
              "        </tr>\n",
              "    </tbody>\n",
              "</table>\n",
              "<span style=\"font-style:italic;text-align:center;\">Truncated to <a href=\"https://jupysql.ploomber.io/en/latest/api/configuration.html#displaylimit\">displaylimit</a> of 10.</span>"
            ]
          },
          "metadata": {},
          "execution_count": 28
        }
      ]
    },
    {
      "cell_type": "code",
      "source": [
        "%%sql\n",
        "SELECT\n",
        " *\n",
        "FROM\n",
        " penguins.csv\n",
        "WHERE\n",
        " island='Dream' OR body_mass_g<3900\n"
      ],
      "metadata": {
        "colab": {
          "base_uri": "https://localhost:8080/",
          "height": 284
        },
        "id": "WwQTygEUy7YX",
        "outputId": "5a277180-e8ee-4051-cce3-0fce719264fc"
      },
      "execution_count": null,
      "outputs": [
        {
          "output_type": "display_data",
          "data": {
            "text/plain": [
              "Running query in 'duckdb://'"
            ],
            "text/html": [
              "<span style=\"None\">Running query in &#x27;duckdb://&#x27;</span>"
            ]
          },
          "metadata": {}
        },
        {
          "output_type": "execute_result",
          "data": {
            "text/plain": [
              "+---------+-----------+----------------+---------------+-------------------+-------------+--------+\n",
              "| species |   island  | bill_length_mm | bill_depth_mm | flipper_length_mm | body_mass_g |  sex   |\n",
              "+---------+-----------+----------------+---------------+-------------------+-------------+--------+\n",
              "|  Adelie | Torgersen |      39.1      |      18.7     |        181        |     3750    |  MALE  |\n",
              "|  Adelie | Torgersen |      39.5      |      17.4     |        186        |     3800    | FEMALE |\n",
              "|  Adelie | Torgersen |      40.3      |      18.0     |        195        |     3250    | FEMALE |\n",
              "|  Adelie | Torgersen |      36.7      |      19.3     |        193        |     3450    | FEMALE |\n",
              "|  Adelie | Torgersen |      39.3      |      20.6     |        190        |     3650    |  MALE  |\n",
              "|  Adelie | Torgersen |      38.9      |      17.8     |        181        |     3625    | FEMALE |\n",
              "|  Adelie | Torgersen |      34.1      |      18.1     |        193        |     3475    |  None  |\n",
              "|  Adelie | Torgersen |      37.8      |      17.1     |        186        |     3300    |  None  |\n",
              "|  Adelie | Torgersen |      37.8      |      17.3     |        180        |     3700    |  None  |\n",
              "|  Adelie | Torgersen |      41.1      |      17.6     |        182        |     3200    | FEMALE |\n",
              "+---------+-----------+----------------+---------------+-------------------+-------------+--------+\n",
              "Truncated to displaylimit of 10."
            ],
            "text/html": [
              "<table>\n",
              "    <thead>\n",
              "        <tr>\n",
              "            <th>species</th>\n",
              "            <th>island</th>\n",
              "            <th>bill_length_mm</th>\n",
              "            <th>bill_depth_mm</th>\n",
              "            <th>flipper_length_mm</th>\n",
              "            <th>body_mass_g</th>\n",
              "            <th>sex</th>\n",
              "        </tr>\n",
              "    </thead>\n",
              "    <tbody>\n",
              "        <tr>\n",
              "            <td>Adelie</td>\n",
              "            <td>Torgersen</td>\n",
              "            <td>39.1</td>\n",
              "            <td>18.7</td>\n",
              "            <td>181</td>\n",
              "            <td>3750</td>\n",
              "            <td>MALE</td>\n",
              "        </tr>\n",
              "        <tr>\n",
              "            <td>Adelie</td>\n",
              "            <td>Torgersen</td>\n",
              "            <td>39.5</td>\n",
              "            <td>17.4</td>\n",
              "            <td>186</td>\n",
              "            <td>3800</td>\n",
              "            <td>FEMALE</td>\n",
              "        </tr>\n",
              "        <tr>\n",
              "            <td>Adelie</td>\n",
              "            <td>Torgersen</td>\n",
              "            <td>40.3</td>\n",
              "            <td>18.0</td>\n",
              "            <td>195</td>\n",
              "            <td>3250</td>\n",
              "            <td>FEMALE</td>\n",
              "        </tr>\n",
              "        <tr>\n",
              "            <td>Adelie</td>\n",
              "            <td>Torgersen</td>\n",
              "            <td>36.7</td>\n",
              "            <td>19.3</td>\n",
              "            <td>193</td>\n",
              "            <td>3450</td>\n",
              "            <td>FEMALE</td>\n",
              "        </tr>\n",
              "        <tr>\n",
              "            <td>Adelie</td>\n",
              "            <td>Torgersen</td>\n",
              "            <td>39.3</td>\n",
              "            <td>20.6</td>\n",
              "            <td>190</td>\n",
              "            <td>3650</td>\n",
              "            <td>MALE</td>\n",
              "        </tr>\n",
              "        <tr>\n",
              "            <td>Adelie</td>\n",
              "            <td>Torgersen</td>\n",
              "            <td>38.9</td>\n",
              "            <td>17.8</td>\n",
              "            <td>181</td>\n",
              "            <td>3625</td>\n",
              "            <td>FEMALE</td>\n",
              "        </tr>\n",
              "        <tr>\n",
              "            <td>Adelie</td>\n",
              "            <td>Torgersen</td>\n",
              "            <td>34.1</td>\n",
              "            <td>18.1</td>\n",
              "            <td>193</td>\n",
              "            <td>3475</td>\n",
              "            <td>None</td>\n",
              "        </tr>\n",
              "        <tr>\n",
              "            <td>Adelie</td>\n",
              "            <td>Torgersen</td>\n",
              "            <td>37.8</td>\n",
              "            <td>17.1</td>\n",
              "            <td>186</td>\n",
              "            <td>3300</td>\n",
              "            <td>None</td>\n",
              "        </tr>\n",
              "        <tr>\n",
              "            <td>Adelie</td>\n",
              "            <td>Torgersen</td>\n",
              "            <td>37.8</td>\n",
              "            <td>17.3</td>\n",
              "            <td>180</td>\n",
              "            <td>3700</td>\n",
              "            <td>None</td>\n",
              "        </tr>\n",
              "        <tr>\n",
              "            <td>Adelie</td>\n",
              "            <td>Torgersen</td>\n",
              "            <td>41.1</td>\n",
              "            <td>17.6</td>\n",
              "            <td>182</td>\n",
              "            <td>3200</td>\n",
              "            <td>FEMALE</td>\n",
              "        </tr>\n",
              "    </tbody>\n",
              "</table>\n",
              "<span style=\"font-style:italic;text-align:center;\">Truncated to <a href=\"https://jupysql.ploomber.io/en/latest/api/configuration.html#displaylimit\">displaylimit</a> of 10.</span>"
            ]
          },
          "metadata": {},
          "execution_count": 29
        }
      ]
    },
    {
      "cell_type": "markdown",
      "source": [
        "##3.4 演習問題\n",
        "問１ penguins.csvからspeciesがChinstrapまたはGentooなものを表示してください"
      ],
      "metadata": {
        "id": "7FMDNijIzRev"
      }
    },
    {
      "cell_type": "code",
      "source": [
        "%%sql"
      ],
      "metadata": {
        "colab": {
          "base_uri": "https://localhost:8080/",
          "height": 284
        },
        "outputId": "7ead3112-b5c5-414a-ecee-4a1d36b5a19c",
        "id": "Po_AdmL8zRew"
      },
      "execution_count": null,
      "outputs": [
        {
          "output_type": "display_data",
          "data": {
            "text/plain": [
              "Running query in 'duckdb://'"
            ],
            "text/html": [
              "<span style=\"None\">Running query in &#x27;duckdb://&#x27;</span>"
            ]
          },
          "metadata": {}
        },
        {
          "output_type": "execute_result",
          "data": {
            "text/plain": [
              "+-----------+--------+----------------+---------------+-------------------+-------------+--------+\n",
              "|  species  | island | bill_length_mm | bill_depth_mm | flipper_length_mm | body_mass_g |  sex   |\n",
              "+-----------+--------+----------------+---------------+-------------------+-------------+--------+\n",
              "| Chinstrap | Dream  |      46.5      |      17.9     |        192        |     3500    | FEMALE |\n",
              "| Chinstrap | Dream  |      50.0      |      19.5     |        196        |     3900    |  MALE  |\n",
              "| Chinstrap | Dream  |      51.3      |      19.2     |        193        |     3650    |  MALE  |\n",
              "| Chinstrap | Dream  |      45.4      |      18.7     |        188        |     3525    | FEMALE |\n",
              "| Chinstrap | Dream  |      52.7      |      19.8     |        197        |     3725    |  MALE  |\n",
              "| Chinstrap | Dream  |      45.2      |      17.8     |        198        |     3950    | FEMALE |\n",
              "| Chinstrap | Dream  |      46.1      |      18.2     |        178        |     3250    | FEMALE |\n",
              "| Chinstrap | Dream  |      51.3      |      18.2     |        197        |     3750    |  MALE  |\n",
              "| Chinstrap | Dream  |      46.0      |      18.9     |        195        |     4150    | FEMALE |\n",
              "| Chinstrap | Dream  |      51.3      |      19.9     |        198        |     3700    |  MALE  |\n",
              "+-----------+--------+----------------+---------------+-------------------+-------------+--------+\n",
              "Truncated to displaylimit of 10."
            ],
            "text/html": [
              "<table>\n",
              "    <thead>\n",
              "        <tr>\n",
              "            <th>species</th>\n",
              "            <th>island</th>\n",
              "            <th>bill_length_mm</th>\n",
              "            <th>bill_depth_mm</th>\n",
              "            <th>flipper_length_mm</th>\n",
              "            <th>body_mass_g</th>\n",
              "            <th>sex</th>\n",
              "        </tr>\n",
              "    </thead>\n",
              "    <tbody>\n",
              "        <tr>\n",
              "            <td>Chinstrap</td>\n",
              "            <td>Dream</td>\n",
              "            <td>46.5</td>\n",
              "            <td>17.9</td>\n",
              "            <td>192</td>\n",
              "            <td>3500</td>\n",
              "            <td>FEMALE</td>\n",
              "        </tr>\n",
              "        <tr>\n",
              "            <td>Chinstrap</td>\n",
              "            <td>Dream</td>\n",
              "            <td>50.0</td>\n",
              "            <td>19.5</td>\n",
              "            <td>196</td>\n",
              "            <td>3900</td>\n",
              "            <td>MALE</td>\n",
              "        </tr>\n",
              "        <tr>\n",
              "            <td>Chinstrap</td>\n",
              "            <td>Dream</td>\n",
              "            <td>51.3</td>\n",
              "            <td>19.2</td>\n",
              "            <td>193</td>\n",
              "            <td>3650</td>\n",
              "            <td>MALE</td>\n",
              "        </tr>\n",
              "        <tr>\n",
              "            <td>Chinstrap</td>\n",
              "            <td>Dream</td>\n",
              "            <td>45.4</td>\n",
              "            <td>18.7</td>\n",
              "            <td>188</td>\n",
              "            <td>3525</td>\n",
              "            <td>FEMALE</td>\n",
              "        </tr>\n",
              "        <tr>\n",
              "            <td>Chinstrap</td>\n",
              "            <td>Dream</td>\n",
              "            <td>52.7</td>\n",
              "            <td>19.8</td>\n",
              "            <td>197</td>\n",
              "            <td>3725</td>\n",
              "            <td>MALE</td>\n",
              "        </tr>\n",
              "        <tr>\n",
              "            <td>Chinstrap</td>\n",
              "            <td>Dream</td>\n",
              "            <td>45.2</td>\n",
              "            <td>17.8</td>\n",
              "            <td>198</td>\n",
              "            <td>3950</td>\n",
              "            <td>FEMALE</td>\n",
              "        </tr>\n",
              "        <tr>\n",
              "            <td>Chinstrap</td>\n",
              "            <td>Dream</td>\n",
              "            <td>46.1</td>\n",
              "            <td>18.2</td>\n",
              "            <td>178</td>\n",
              "            <td>3250</td>\n",
              "            <td>FEMALE</td>\n",
              "        </tr>\n",
              "        <tr>\n",
              "            <td>Chinstrap</td>\n",
              "            <td>Dream</td>\n",
              "            <td>51.3</td>\n",
              "            <td>18.2</td>\n",
              "            <td>197</td>\n",
              "            <td>3750</td>\n",
              "            <td>MALE</td>\n",
              "        </tr>\n",
              "        <tr>\n",
              "            <td>Chinstrap</td>\n",
              "            <td>Dream</td>\n",
              "            <td>46.0</td>\n",
              "            <td>18.9</td>\n",
              "            <td>195</td>\n",
              "            <td>4150</td>\n",
              "            <td>FEMALE</td>\n",
              "        </tr>\n",
              "        <tr>\n",
              "            <td>Chinstrap</td>\n",
              "            <td>Dream</td>\n",
              "            <td>51.3</td>\n",
              "            <td>19.9</td>\n",
              "            <td>198</td>\n",
              "            <td>3700</td>\n",
              "            <td>MALE</td>\n",
              "        </tr>\n",
              "    </tbody>\n",
              "</table>\n",
              "<span style=\"font-style:italic;text-align:center;\">Truncated to <a href=\"https://jupysql.ploomber.io/en/latest/api/configuration.html#displaylimit\">displaylimit</a> of 10.</span>"
            ]
          },
          "metadata": {},
          "execution_count": 32
        }
      ]
    },
    {
      "cell_type": "markdown",
      "source": [
        "問2 penguins.csvからsexが記入されているものを表示してください"
      ],
      "metadata": {
        "id": "J2M79fJ0zRey"
      }
    },
    {
      "cell_type": "code",
      "source": [
        "%%sql"
      ],
      "metadata": {
        "colab": {
          "base_uri": "https://localhost:8080/",
          "height": 284
        },
        "outputId": "e143d935-9d4e-4e76-9e33-4e432f3a5f42",
        "id": "zhMM8yvEzRe0"
      },
      "execution_count": null,
      "outputs": [
        {
          "output_type": "display_data",
          "data": {
            "text/plain": [
              "Running query in 'duckdb://'"
            ],
            "text/html": [
              "<span style=\"None\">Running query in &#x27;duckdb://&#x27;</span>"
            ]
          },
          "metadata": {}
        },
        {
          "output_type": "execute_result",
          "data": {
            "text/plain": [
              "+---------+-----------+----------------+---------------+-------------------+-------------+--------+\n",
              "| species |   island  | bill_length_mm | bill_depth_mm | flipper_length_mm | body_mass_g |  sex   |\n",
              "+---------+-----------+----------------+---------------+-------------------+-------------+--------+\n",
              "|  Adelie | Torgersen |      39.1      |      18.7     |        181        |     3750    |  MALE  |\n",
              "|  Adelie | Torgersen |      39.5      |      17.4     |        186        |     3800    | FEMALE |\n",
              "|  Adelie | Torgersen |      40.3      |      18.0     |        195        |     3250    | FEMALE |\n",
              "|  Adelie | Torgersen |      36.7      |      19.3     |        193        |     3450    | FEMALE |\n",
              "|  Adelie | Torgersen |      39.3      |      20.6     |        190        |     3650    |  MALE  |\n",
              "|  Adelie | Torgersen |      38.9      |      17.8     |        181        |     3625    | FEMALE |\n",
              "|  Adelie | Torgersen |      39.2      |      19.6     |        195        |     4675    |  MALE  |\n",
              "|  Adelie | Torgersen |      41.1      |      17.6     |        182        |     3200    | FEMALE |\n",
              "|  Adelie | Torgersen |      38.6      |      21.2     |        191        |     3800    |  MALE  |\n",
              "|  Adelie | Torgersen |      34.6      |      21.1     |        198        |     4400    |  MALE  |\n",
              "+---------+-----------+----------------+---------------+-------------------+-------------+--------+\n",
              "Truncated to displaylimit of 10."
            ],
            "text/html": [
              "<table>\n",
              "    <thead>\n",
              "        <tr>\n",
              "            <th>species</th>\n",
              "            <th>island</th>\n",
              "            <th>bill_length_mm</th>\n",
              "            <th>bill_depth_mm</th>\n",
              "            <th>flipper_length_mm</th>\n",
              "            <th>body_mass_g</th>\n",
              "            <th>sex</th>\n",
              "        </tr>\n",
              "    </thead>\n",
              "    <tbody>\n",
              "        <tr>\n",
              "            <td>Adelie</td>\n",
              "            <td>Torgersen</td>\n",
              "            <td>39.1</td>\n",
              "            <td>18.7</td>\n",
              "            <td>181</td>\n",
              "            <td>3750</td>\n",
              "            <td>MALE</td>\n",
              "        </tr>\n",
              "        <tr>\n",
              "            <td>Adelie</td>\n",
              "            <td>Torgersen</td>\n",
              "            <td>39.5</td>\n",
              "            <td>17.4</td>\n",
              "            <td>186</td>\n",
              "            <td>3800</td>\n",
              "            <td>FEMALE</td>\n",
              "        </tr>\n",
              "        <tr>\n",
              "            <td>Adelie</td>\n",
              "            <td>Torgersen</td>\n",
              "            <td>40.3</td>\n",
              "            <td>18.0</td>\n",
              "            <td>195</td>\n",
              "            <td>3250</td>\n",
              "            <td>FEMALE</td>\n",
              "        </tr>\n",
              "        <tr>\n",
              "            <td>Adelie</td>\n",
              "            <td>Torgersen</td>\n",
              "            <td>36.7</td>\n",
              "            <td>19.3</td>\n",
              "            <td>193</td>\n",
              "            <td>3450</td>\n",
              "            <td>FEMALE</td>\n",
              "        </tr>\n",
              "        <tr>\n",
              "            <td>Adelie</td>\n",
              "            <td>Torgersen</td>\n",
              "            <td>39.3</td>\n",
              "            <td>20.6</td>\n",
              "            <td>190</td>\n",
              "            <td>3650</td>\n",
              "            <td>MALE</td>\n",
              "        </tr>\n",
              "        <tr>\n",
              "            <td>Adelie</td>\n",
              "            <td>Torgersen</td>\n",
              "            <td>38.9</td>\n",
              "            <td>17.8</td>\n",
              "            <td>181</td>\n",
              "            <td>3625</td>\n",
              "            <td>FEMALE</td>\n",
              "        </tr>\n",
              "        <tr>\n",
              "            <td>Adelie</td>\n",
              "            <td>Torgersen</td>\n",
              "            <td>39.2</td>\n",
              "            <td>19.6</td>\n",
              "            <td>195</td>\n",
              "            <td>4675</td>\n",
              "            <td>MALE</td>\n",
              "        </tr>\n",
              "        <tr>\n",
              "            <td>Adelie</td>\n",
              "            <td>Torgersen</td>\n",
              "            <td>41.1</td>\n",
              "            <td>17.6</td>\n",
              "            <td>182</td>\n",
              "            <td>3200</td>\n",
              "            <td>FEMALE</td>\n",
              "        </tr>\n",
              "        <tr>\n",
              "            <td>Adelie</td>\n",
              "            <td>Torgersen</td>\n",
              "            <td>38.6</td>\n",
              "            <td>21.2</td>\n",
              "            <td>191</td>\n",
              "            <td>3800</td>\n",
              "            <td>MALE</td>\n",
              "        </tr>\n",
              "        <tr>\n",
              "            <td>Adelie</td>\n",
              "            <td>Torgersen</td>\n",
              "            <td>34.6</td>\n",
              "            <td>21.1</td>\n",
              "            <td>198</td>\n",
              "            <td>4400</td>\n",
              "            <td>MALE</td>\n",
              "        </tr>\n",
              "    </tbody>\n",
              "</table>\n",
              "<span style=\"font-style:italic;text-align:center;\">Truncated to <a href=\"https://jupysql.ploomber.io/en/latest/api/configuration.html#displaylimit\">displaylimit</a> of 10.</span>"
            ]
          },
          "metadata": {},
          "execution_count": 33
        }
      ]
    },
    {
      "cell_type": "markdown",
      "source": [
        "問3 penguins.csvからsexが記入されているものであり、flipper length mmが180より小さいものを表示してください\n",
        "\n",
        "\n"
      ],
      "metadata": {
        "id": "IP0TyxqbzRe0"
      }
    },
    {
      "cell_type": "code",
      "source": [
        "%%sql"
      ],
      "metadata": {
        "colab": {
          "base_uri": "https://localhost:8080/",
          "height": 284
        },
        "outputId": "477c7c80-24db-4b68-bb93-661980390354",
        "id": "gWA5JygOzRe0"
      },
      "execution_count": null,
      "outputs": [
        {
          "output_type": "display_data",
          "data": {
            "text/plain": [
              "Running query in 'duckdb://'"
            ],
            "text/html": [
              "<span style=\"None\">Running query in &#x27;duckdb://&#x27;</span>"
            ]
          },
          "metadata": {}
        },
        {
          "output_type": "execute_result",
          "data": {
            "text/plain": [
              "+---------+-----------+----------------+---------------+-------------------+-------------+--------+\n",
              "| species |   island  | bill_length_mm | bill_depth_mm | flipper_length_mm | body_mass_g |  sex   |\n",
              "+---------+-----------+----------------+---------------+-------------------+-------------+--------+\n",
              "|  Adelie | Torgersen |      39.1      |      18.7     |        181        |     3750    |  MALE  |\n",
              "|  Adelie | Torgersen |      39.5      |      17.4     |        186        |     3800    | FEMALE |\n",
              "|  Adelie | Torgersen |      38.9      |      17.8     |        181        |     3625    | FEMALE |\n",
              "|  Adelie | Torgersen |      41.1      |      17.6     |        182        |     3200    | FEMALE |\n",
              "|  Adelie | Torgersen |      36.6      |      17.8     |        185        |     3700    | FEMALE |\n",
              "|  Adelie | Torgersen |      34.4      |      18.4     |        184        |     3325    | FEMALE |\n",
              "|  Adelie |   Biscoe  |      37.8      |      18.3     |        174        |     3400    | FEMALE |\n",
              "|  Adelie |   Biscoe  |      37.7      |      18.7     |        180        |     3600    |  MALE  |\n",
              "|  Adelie |   Biscoe  |      35.9      |      19.2     |        189        |     3800    | FEMALE |\n",
              "|  Adelie |   Biscoe  |      38.2      |      18.1     |        185        |     3950    |  MALE  |\n",
              "+---------+-----------+----------------+---------------+-------------------+-------------+--------+\n",
              "Truncated to displaylimit of 10."
            ],
            "text/html": [
              "<table>\n",
              "    <thead>\n",
              "        <tr>\n",
              "            <th>species</th>\n",
              "            <th>island</th>\n",
              "            <th>bill_length_mm</th>\n",
              "            <th>bill_depth_mm</th>\n",
              "            <th>flipper_length_mm</th>\n",
              "            <th>body_mass_g</th>\n",
              "            <th>sex</th>\n",
              "        </tr>\n",
              "    </thead>\n",
              "    <tbody>\n",
              "        <tr>\n",
              "            <td>Adelie</td>\n",
              "            <td>Torgersen</td>\n",
              "            <td>39.1</td>\n",
              "            <td>18.7</td>\n",
              "            <td>181</td>\n",
              "            <td>3750</td>\n",
              "            <td>MALE</td>\n",
              "        </tr>\n",
              "        <tr>\n",
              "            <td>Adelie</td>\n",
              "            <td>Torgersen</td>\n",
              "            <td>39.5</td>\n",
              "            <td>17.4</td>\n",
              "            <td>186</td>\n",
              "            <td>3800</td>\n",
              "            <td>FEMALE</td>\n",
              "        </tr>\n",
              "        <tr>\n",
              "            <td>Adelie</td>\n",
              "            <td>Torgersen</td>\n",
              "            <td>38.9</td>\n",
              "            <td>17.8</td>\n",
              "            <td>181</td>\n",
              "            <td>3625</td>\n",
              "            <td>FEMALE</td>\n",
              "        </tr>\n",
              "        <tr>\n",
              "            <td>Adelie</td>\n",
              "            <td>Torgersen</td>\n",
              "            <td>41.1</td>\n",
              "            <td>17.6</td>\n",
              "            <td>182</td>\n",
              "            <td>3200</td>\n",
              "            <td>FEMALE</td>\n",
              "        </tr>\n",
              "        <tr>\n",
              "            <td>Adelie</td>\n",
              "            <td>Torgersen</td>\n",
              "            <td>36.6</td>\n",
              "            <td>17.8</td>\n",
              "            <td>185</td>\n",
              "            <td>3700</td>\n",
              "            <td>FEMALE</td>\n",
              "        </tr>\n",
              "        <tr>\n",
              "            <td>Adelie</td>\n",
              "            <td>Torgersen</td>\n",
              "            <td>34.4</td>\n",
              "            <td>18.4</td>\n",
              "            <td>184</td>\n",
              "            <td>3325</td>\n",
              "            <td>FEMALE</td>\n",
              "        </tr>\n",
              "        <tr>\n",
              "            <td>Adelie</td>\n",
              "            <td>Biscoe</td>\n",
              "            <td>37.8</td>\n",
              "            <td>18.3</td>\n",
              "            <td>174</td>\n",
              "            <td>3400</td>\n",
              "            <td>FEMALE</td>\n",
              "        </tr>\n",
              "        <tr>\n",
              "            <td>Adelie</td>\n",
              "            <td>Biscoe</td>\n",
              "            <td>37.7</td>\n",
              "            <td>18.7</td>\n",
              "            <td>180</td>\n",
              "            <td>3600</td>\n",
              "            <td>MALE</td>\n",
              "        </tr>\n",
              "        <tr>\n",
              "            <td>Adelie</td>\n",
              "            <td>Biscoe</td>\n",
              "            <td>35.9</td>\n",
              "            <td>19.2</td>\n",
              "            <td>189</td>\n",
              "            <td>3800</td>\n",
              "            <td>FEMALE</td>\n",
              "        </tr>\n",
              "        <tr>\n",
              "            <td>Adelie</td>\n",
              "            <td>Biscoe</td>\n",
              "            <td>38.2</td>\n",
              "            <td>18.1</td>\n",
              "            <td>185</td>\n",
              "            <td>3950</td>\n",
              "            <td>MALE</td>\n",
              "        </tr>\n",
              "    </tbody>\n",
              "</table>\n",
              "<span style=\"font-style:italic;text-align:center;\">Truncated to <a href=\"https://jupysql.ploomber.io/en/latest/api/configuration.html#displaylimit\">displaylimit</a> of 10.</span>"
            ]
          },
          "metadata": {},
          "execution_count": 38
        }
      ]
    },
    {
      "cell_type": "markdown",
      "source": [
        "問4 penguins.csvからsex,body_mass_gが記入されているものであり、body_mass_gが3800より小さいものでspecies, body_mass_g,sexを表示してください"
      ],
      "metadata": {
        "id": "1KsAIXevzRe0"
      }
    },
    {
      "cell_type": "code",
      "source": [
        "%%sql"
      ],
      "metadata": {
        "colab": {
          "base_uri": "https://localhost:8080/",
          "height": 284
        },
        "outputId": "721658e9-3100-42ae-bfe0-4663d10ea01c",
        "id": "boaoPmImzRe0"
      },
      "execution_count": null,
      "outputs": [
        {
          "output_type": "display_data",
          "data": {
            "text/plain": [
              "Running query in 'duckdb://'"
            ],
            "text/html": [
              "<span style=\"None\">Running query in &#x27;duckdb://&#x27;</span>"
            ]
          },
          "metadata": {}
        },
        {
          "output_type": "execute_result",
          "data": {
            "text/plain": [
              "+---------+-------------+--------+\n",
              "| species | body_mass_g |  sex   |\n",
              "+---------+-------------+--------+\n",
              "|  Adelie |     3750    |  MALE  |\n",
              "|  Adelie |     3250    | FEMALE |\n",
              "|  Adelie |     3450    | FEMALE |\n",
              "|  Adelie |     3650    |  MALE  |\n",
              "|  Adelie |     3625    | FEMALE |\n",
              "|  Adelie |     3200    | FEMALE |\n",
              "|  Adelie |     3700    | FEMALE |\n",
              "|  Adelie |     3450    | FEMALE |\n",
              "|  Adelie |     3325    | FEMALE |\n",
              "|  Adelie |     3400    | FEMALE |\n",
              "+---------+-------------+--------+\n",
              "Truncated to displaylimit of 10."
            ],
            "text/html": [
              "<table>\n",
              "    <thead>\n",
              "        <tr>\n",
              "            <th>species</th>\n",
              "            <th>body_mass_g</th>\n",
              "            <th>sex</th>\n",
              "        </tr>\n",
              "    </thead>\n",
              "    <tbody>\n",
              "        <tr>\n",
              "            <td>Adelie</td>\n",
              "            <td>3750</td>\n",
              "            <td>MALE</td>\n",
              "        </tr>\n",
              "        <tr>\n",
              "            <td>Adelie</td>\n",
              "            <td>3250</td>\n",
              "            <td>FEMALE</td>\n",
              "        </tr>\n",
              "        <tr>\n",
              "            <td>Adelie</td>\n",
              "            <td>3450</td>\n",
              "            <td>FEMALE</td>\n",
              "        </tr>\n",
              "        <tr>\n",
              "            <td>Adelie</td>\n",
              "            <td>3650</td>\n",
              "            <td>MALE</td>\n",
              "        </tr>\n",
              "        <tr>\n",
              "            <td>Adelie</td>\n",
              "            <td>3625</td>\n",
              "            <td>FEMALE</td>\n",
              "        </tr>\n",
              "        <tr>\n",
              "            <td>Adelie</td>\n",
              "            <td>3200</td>\n",
              "            <td>FEMALE</td>\n",
              "        </tr>\n",
              "        <tr>\n",
              "            <td>Adelie</td>\n",
              "            <td>3700</td>\n",
              "            <td>FEMALE</td>\n",
              "        </tr>\n",
              "        <tr>\n",
              "            <td>Adelie</td>\n",
              "            <td>3450</td>\n",
              "            <td>FEMALE</td>\n",
              "        </tr>\n",
              "        <tr>\n",
              "            <td>Adelie</td>\n",
              "            <td>3325</td>\n",
              "            <td>FEMALE</td>\n",
              "        </tr>\n",
              "        <tr>\n",
              "            <td>Adelie</td>\n",
              "            <td>3400</td>\n",
              "            <td>FEMALE</td>\n",
              "        </tr>\n",
              "    </tbody>\n",
              "</table>\n",
              "<span style=\"font-style:italic;text-align:center;\">Truncated to <a href=\"https://jupysql.ploomber.io/en/latest/api/configuration.html#displaylimit\">displaylimit</a> of 10.</span>"
            ]
          },
          "metadata": {},
          "execution_count": 41
        }
      ]
    }
  ],
  "metadata": {
    "application/vnd.databricks.v1+notebook": {
      "dashboards": [],
      "language": "python",
      "notebookMetadata": {
        "pythonIndentUnit": 4
      },
      "notebookName": "0 - setup",
      "widgets": {}
    },
    "colab": {
      "provenance": []
    },
    "language_info": {
      "name": "python"
    },
    "kernelspec": {
      "name": "python3",
      "display_name": "Python 3"
    }
  },
  "nbformat": 4,
  "nbformat_minor": 0
}